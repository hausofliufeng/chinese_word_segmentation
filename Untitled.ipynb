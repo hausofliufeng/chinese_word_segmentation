{
 "cells": [
  {
   "cell_type": "code",
   "execution_count": 1,
   "id": "divine-ethnic",
   "metadata": {
    "ExecuteTime": {
     "end_time": "2021-04-22T14:42:17.765202Z",
     "start_time": "2021-04-22T14:42:17.742554Z"
    }
   },
   "outputs": [],
   "source": [
    "from utils.dict import load_dict"
   ]
  },
  {
   "cell_type": "code",
   "execution_count": null,
   "id": "narrative-subscriber",
   "metadata": {
    "ExecuteTime": {
     "end_time": "2021-04-22T13:50:37.208107Z",
     "start_time": "2021-04-22T13:50:37.177045Z"
    }
   },
   "outputs": [],
   "source": []
  },
  {
   "cell_type": "code",
   "execution_count": 2,
   "id": "proprietary-reward",
   "metadata": {
    "ExecuteTime": {
     "end_time": "2021-04-22T14:42:19.543758Z",
     "start_time": "2021-04-22T14:42:19.525514Z"
    }
   },
   "outputs": [],
   "source": [
    "max_word_len=17"
   ]
  },
  {
   "cell_type": "code",
   "execution_count": 3,
   "id": "restricted-notification",
   "metadata": {
    "ExecuteTime": {
     "end_time": "2021-04-22T14:42:19.917143Z",
     "start_time": "2021-04-22T14:42:19.887136Z"
    }
   },
   "outputs": [],
   "source": [
    "word_list = load_dict(\"data/training_vocab.txt\")"
   ]
  },
  {
   "cell_type": "code",
   "execution_count": 16,
   "id": "employed-keeping",
   "metadata": {
    "ExecuteTime": {
     "end_time": "2021-04-22T14:55:43.338964Z",
     "start_time": "2021-04-22T14:55:43.327954Z"
    },
    "code_folding": []
   },
   "outputs": [],
   "source": [
    "def cut(sentence,max_word_len):\n",
    "    \"\"\"\n",
    "    RMM分词\n",
    "    \n",
    "    args:\n",
    "        sentence(string) : raw sentence\n",
    "        \n",
    "    returns:\n",
    "        list : word list\n",
    "    \"\"\"\n",
    "    sentence=sentence.strip() # 去除首尾空格、换行后的句子\n",
    "    sentence_len=len(sentence) # 当前句子长度\n",
    "    result=[] # 切分结果\n",
    "    \n",
    "    while sentence_len>0: # 外层循环，针对当前剩余所有序列\n",
    "        sub_len=min(max_word_len,sentence_len) \n",
    "        sub_sentence=sentence[-sub_len:]\n",
    "        \n",
    "        while sub_len>0: # 内层循环，针对选取的子序列\n",
    "            if sub_sentence in word_list:\n",
    "                result.append(sub_sentence)\n",
    "                sentence=sentence[:sentence_len-len(sub_sentence)]\n",
    "                sentence_len=len(sentence)\n",
    "                break\n",
    "            else:\n",
    "                if sub_len>1:\n",
    "                    sub_sentence=sub_sentence[1:]\n",
    "                    sub_len=len(sub_sentence)\n",
    "                    continue\n",
    "                elif sub_len==1:\n",
    "                    result.append(sub_sentence)\n",
    "                    sentence=sentence[:sentence_len-len(sub_sentence)]\n",
    "                    sentence_len=len(sentence)\n",
    "                    break\n",
    "    \n",
    "    result.reverse()\n",
    "    \n",
    "    return result"
   ]
  },
  {
   "cell_type": "code",
   "execution_count": null,
   "id": "infectious-plymouth",
   "metadata": {},
   "outputs": [],
   "source": []
  },
  {
   "cell_type": "code",
   "execution_count": null,
   "id": "processed-protest",
   "metadata": {},
   "outputs": [],
   "source": []
  },
  {
   "cell_type": "code",
   "execution_count": null,
   "id": "ethical-august",
   "metadata": {},
   "outputs": [],
   "source": []
  },
  {
   "cell_type": "code",
   "execution_count": 17,
   "id": "stone-upper",
   "metadata": {
    "ExecuteTime": {
     "end_time": "2021-04-22T14:55:45.540751Z",
     "start_time": "2021-04-22T14:55:45.527729Z"
    }
   },
   "outputs": [
    {
     "data": {
      "text/plain": [
       "['我们',\n",
       " '希望',\n",
       " '，',\n",
       " '新世纪',\n",
       " '成为',\n",
       " '各国',\n",
       " '人民',\n",
       " '共享',\n",
       " '和平',\n",
       " '的',\n",
       " '世纪',\n",
       " '。',\n",
       " '在',\n",
       " '2',\n",
       " '0',\n",
       " '世纪',\n",
       " '里',\n",
       " '，',\n",
       " '世界',\n",
       " '饱受',\n",
       " '各种',\n",
       " '战争',\n",
       " '和',\n",
       " '冲突',\n",
       " '的',\n",
       " '苦难',\n",
       " '。',\n",
       " '时至今日',\n",
       " '，',\n",
       " '仍',\n",
       " '有',\n",
       " '不少',\n",
       " '国家',\n",
       " '和',\n",
       " '地区',\n",
       " '的',\n",
       " '人民',\n",
       " '还',\n",
       " '在',\n",
       " '忍受',\n",
       " '战火',\n",
       " '的',\n",
       " '煎熬',\n",
       " '。',\n",
       " '中国',\n",
       " '人民',\n",
       " '真诚',\n",
       " '地',\n",
       " '祝愿',\n",
       " '他们',\n",
       " '早日',\n",
       " '过',\n",
       " '上',\n",
       " '和平',\n",
       " '安定',\n",
       " '的',\n",
       " '生活',\n",
       " '。',\n",
       " '中国',\n",
       " '人民',\n",
       " '热爱',\n",
       " '和平',\n",
       " '与',\n",
       " '自由',\n",
       " '，',\n",
       " '始终',\n",
       " '奉行',\n",
       " '独立自主',\n",
       " '的',\n",
       " '和平',\n",
       " '外交',\n",
       " '政策',\n",
       " '，',\n",
       " '永远',\n",
       " '站',\n",
       " '在',\n",
       " '人类',\n",
       " '正义',\n",
       " '事业',\n",
       " '的',\n",
       " '一边',\n",
       " '。',\n",
       " '我们',\n",
       " '愿',\n",
       " '同',\n",
       " '世界',\n",
       " '上',\n",
       " '一切',\n",
       " '爱好',\n",
       " '和平',\n",
       " '的',\n",
       " '国家',\n",
       " '和',\n",
       " '人民',\n",
       " '一道',\n",
       " '，',\n",
       " '为',\n",
       " '促进',\n",
       " '世界',\n",
       " '多极化',\n",
       " '，',\n",
       " '建立',\n",
       " '和平',\n",
       " '稳定',\n",
       " '、',\n",
       " '公正',\n",
       " '合理',\n",
       " '的',\n",
       " '国际',\n",
       " '政治经济',\n",
       " '新',\n",
       " '秩序',\n",
       " '而',\n",
       " '努力',\n",
       " '奋斗',\n",
       " '。']"
      ]
     },
     "execution_count": 17,
     "metadata": {},
     "output_type": "execute_result"
    }
   ],
   "source": [
    "cut(\"我们希望，新世纪成为各国人民共享和平的世纪。在20世纪里，世界饱受各种战争和冲突的苦难。时至今日，仍有不少国家和地区的人民还在忍受战火的煎熬。中国人民真诚地祝愿他们早日过上和平安定的生活。中国人民热爱和平与自由，始终奉行独立自主的和平外交政策，永远站在人类正义事业的一边。我们愿同世界上一切爱好和平的国家和人民一道，为促进世界多极化，建立和平稳定、公正合理的国际政治经济新秩序而努力奋斗。\",max_word_len)"
   ]
  },
  {
   "cell_type": "code",
   "execution_count": null,
   "id": "quiet-wiring",
   "metadata": {
    "ExecuteTime": {
     "end_time": "2021-04-22T14:23:23.822086Z",
     "start_time": "2021-04-22T14:23:23.817093Z"
    }
   },
   "outputs": [],
   "source": [
    "a"
   ]
  },
  {
   "cell_type": "code",
   "execution_count": null,
   "id": "banned-columbus",
   "metadata": {
    "ExecuteTime": {
     "end_time": "2021-04-22T14:21:55.501217Z",
     "start_time": "2021-04-22T14:21:55.495216Z"
    }
   },
   "outputs": [],
   "source": [
    "a[0:4]"
   ]
  },
  {
   "cell_type": "code",
   "execution_count": null,
   "id": "perceived-humor",
   "metadata": {
    "ExecuteTime": {
     "end_time": "2021-04-22T14:13:59.611353Z",
     "start_time": "2021-04-22T14:13:59.605356Z"
    }
   },
   "outputs": [],
   "source": [
    "a.strip(\"hello\")"
   ]
  },
  {
   "cell_type": "code",
   "execution_count": null,
   "id": "willing-pension",
   "metadata": {
    "ExecuteTime": {
     "end_time": "2021-04-22T14:13:39.788369Z",
     "start_time": "2021-04-22T14:13:39.771358Z"
    }
   },
   "outputs": [],
   "source": [
    "a"
   ]
  },
  {
   "cell_type": "code",
   "execution_count": null,
   "id": "treated-solid",
   "metadata": {},
   "outputs": [],
   "source": []
  }
 ],
 "metadata": {
  "kernelspec": {
   "display_name": "Python 3",
   "language": "python",
   "name": "python3"
  },
  "language_info": {
   "codemirror_mode": {
    "name": "ipython",
    "version": 3
   },
   "file_extension": ".py",
   "mimetype": "text/x-python",
   "name": "python",
   "nbconvert_exporter": "python",
   "pygments_lexer": "ipython3",
   "version": "3.7.0"
  }
 },
 "nbformat": 4,
 "nbformat_minor": 5
}
